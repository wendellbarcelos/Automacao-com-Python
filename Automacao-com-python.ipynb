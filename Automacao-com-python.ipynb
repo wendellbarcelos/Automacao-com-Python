{
 "cells": [
  {
   "cell_type": "markdown",
   "id": "6947c818",
   "metadata": {},
   "source": [
    "# Automação com Python\n",
    "\n",
    "### Desafio:\n",
    "\n",
    "Todos os dias, o nosso sistema atualiza as vendas do dia anterior.\n",
    "O seu trabalho diário, como analista, é enviar um e-mail para a diretoria, assim que começar a trabalhar, com o faturamento e a quantidade de produtos vendidos no dia anterior\n",
    "\n",
    "E-mail da diretoria: seugmail+diretoria@gmail.com<br>\n",
    "Local onde o sistema disponibiliza as vendas do dia anterior: https://drive.google.com/drive/folders/149xknr9JvrlEnhNWO49zPcw0PW5icxga?usp=sharing\n",
    "\n",
    "https://drive.google.com/drive/folders/1JRs2RxUSKd7QKfghiQ7BxLWCalta2IaK\n",
    "\n",
    "Para resolver isso, vamos usar o pyautogui, uma biblioteca de automação de comandos do mouse e do teclado\n"
   ]
  },
  {
   "cell_type": "code",
   "execution_count": null,
   "id": "b6f92151",
   "metadata": {},
   "outputs": [],
   "source": [
    "# Importando as bibliotecas\n",
    "import pyautogui\n",
    "import pyperclip\n",
    "import time\n",
    "import pandas as pd"
   ]
  },
  {
   "cell_type": "code",
   "execution_count": null,
   "id": "f1b8e0ef",
   "metadata": {},
   "outputs": [],
   "source": [
    "pyautogui.PAUSE = 1  # Acrescenta uma pausa de 1 segundo entre as funções\n",
    "\n",
    "# Passo 1- Entrar no sistema da empresa - Usarei o link do Google Drive onde coloquei o arquivo do excel simulando o sistema\n",
    "pyautogui.hotkey('ctrl', 't')  # Abre uma nova aba\n",
    "pyperclip.copy('https://drive.google.com/drive/folders/1JRs2RxUSKd7QKfghiQ7BxLWCalta2IaK')  # Copia o link\n",
    "pyautogui.click(x=599, y=66)  # Clica na posição que você selecionou\n",
    "pyautogui.hotkey('ctrl', 'v')  # Cola o link\n",
    "pyautogui.press('enter')  # Aperta o Enter\n",
    "\n",
    "time.sleep(5)  # Função deixa 5 segundos para a pagina carregar\n",
    "\n",
    "# Passo 2- Encontrar e baixar a base de dados no sistema de empresa\n",
    "pyautogui.click(x=1409, y=402)  # Clicar no arquivo\n",
    "pyautogui.click(x=1716, y=200)  # Clicar nos 3 pontinhos\n",
    "pyautogui.click(x=1525, y=540)  # Fazer download\n",
    "\n",
    "time.sleep(5)"
   ]
  },
  {
   "cell_type": "code",
   "execution_count": null,
   "id": "9d12665b",
   "metadata": {},
   "outputs": [],
   "source": [
    "# Passo 3- Importar a base de dados para o python\n",
    "\n",
    "df_vendas = pd.read_excel(r'D:/wende/Downloads/Vendas - Dez.xlsx')\n",
    "display(df_vendas)"
   ]
  },
  {
   "cell_type": "code",
   "execution_count": null,
   "id": "5a757648",
   "metadata": {},
   "outputs": [],
   "source": [
    "# Passo 4- Calcular os indicadores - Faturamento\n",
    "df_fat = df_vendas['Valor Final'].sum()\n",
    "print(df_fat)\n",
    "\n",
    "# Calcular os indicadores - Qtd produtos vendidos\n",
    "df_qtd = df_vendas['Quantidade'].sum()\n",
    "print(df_qtd)"
   ]
  },
  {
   "cell_type": "code",
   "execution_count": null,
   "id": "0cc10ae7",
   "metadata": {},
   "outputs": [],
   "source": [
    "# Passo 5- Enviar um email com o relatório para a diretoria\n",
    "# Abrir o email (Link do Email: https://mail.google.com/mail/u/0/#inbox)\n",
    "\n",
    "pyautogui.PAUSE = 1  # Acrescenta uma pausa de 1 segundo entre as funções\n",
    "\n",
    "# Passo 1- Entrar no sistema da empresa - Usarei o link do Google Drive onde coloquei o arquivo do excel simulando o sistema\n",
    "pyautogui.hotkey('ctrl', 't')  # Abre uma nova aba\n",
    "pyperclip.copy('https://mail.google.com/mail/u/0/#inbox')  # Copia o link\n",
    "pyautogui.click(x=599, y=66)  # Clica na posição que você selecionou\n",
    "pyautogui.hotkey('ctrl', 'v')  # Cola o link\n",
    "pyautogui.press('enter')  # Aperta o Enter\n",
    "time.sleep(5)\n",
    "\n",
    "# Clicar no escrever\n",
    "pyautogui.click(x=91, y=211)\n",
    "time.sleep(1.5)\n",
    "\n",
    "# Escrever o destinatario\n",
    "pyautogui.write('wendell_barcelos2@hotmail.com')\n",
    "pyautogui.press('tab')\n",
    "time.sleep(1)\n",
    "pyautogui.press('tab')\n",
    "\n",
    "# Escrever o assunto\n",
    "pyperclip.copy('Relatório Financeiro do Mês de Dezembro')\n",
    "pyautogui.hotkey('ctrl', 'v')\n",
    "time.sleep(1)\n",
    "pyautogui.press('tab')\n",
    "\n",
    "# Escrever o corpo do email\n",
    "\n",
    "texto = f'''\n",
    "Prezados, bom dia!\n",
    "\n",
    "Faturamento do mês de dezembro: R$ {df_fat:,.2f}\n",
    "Quantidade vendida no mês de dezembro: {df_qtd:,.0f}\n",
    "\n",
    "att, \n",
    "Wendell Barcelos\n",
    "'''\n",
    "\n",
    "pyperclip.copy(texto)\n",
    "pyautogui.hotkey('ctrl', 'v')\n",
    "time.sleep(1.5)\n",
    "\n",
    "# Enviar o email\n",
    "pyautogui.click(x=1304, y=1011)"
   ]
  },
  {
   "cell_type": "code",
   "execution_count": null,
   "id": "dd0d0bab",
   "metadata": {},
   "outputs": [],
   "source": [
    "# Usando o pyautogui position para pegar a posição do mouse\n",
    "#time.sleep(5)\n",
    "#pyautogui.position()"
   ]
  },
  {
   "cell_type": "code",
   "execution_count": null,
   "id": "9ecfdb2d",
   "metadata": {},
   "outputs": [],
   "source": []
  }
 ],
 "metadata": {
  "kernelspec": {
   "display_name": "Python 3 (ipykernel)",
   "language": "python",
   "name": "python3"
  },
  "language_info": {
   "codemirror_mode": {
    "name": "ipython",
    "version": 3
   },
   "file_extension": ".py",
   "mimetype": "text/x-python",
   "name": "python",
   "nbconvert_exporter": "python",
   "pygments_lexer": "ipython3",
   "version": "3.9.7"
  }
 },
 "nbformat": 4,
 "nbformat_minor": 5
}
